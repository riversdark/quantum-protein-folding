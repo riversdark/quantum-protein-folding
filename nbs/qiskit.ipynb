{
 "cells": [
  {
   "cell_type": "markdown",
   "id": "4d2ea6f4",
   "metadata": {},
   "source": [
    "# Protein Folding"
   ]
  },
  {
   "cell_type": "markdown",
   "id": "aa2fe29c",
   "metadata": {},
   "source": [
    "### Theoretical prelude"
   ]
  },
  {
   "cell_type": "markdown",
   "id": "ffa82037",
   "metadata": {},
   "source": [
    "The structure and function of many natural and human-engineered\n",
    "proteins is still only poorly understood. As a result, our understanding of\n",
    "processes connected with protein folding, such as those encountered in\n",
    "Alzheimer’s disease, vaccine development, and crop improvement\n",
    "research, has remained limited.\n",
    "\n",
    "Unfolded polypeptides have a very large number of degrees of freedom\n",
    "and thus an enormous number of potential conformations. For example, a\n",
    "chain with $100$ aminoacids has on the order of $10^{47}$ conformations. In\n",
    "reality, however, many proteins fold to their native structure within\n",
    "seconds. This is known as Levinthal’s paradox [1].\n",
    "\n",
    "The exponential growth of potential conformations with chain length\n",
    "makes the problem intractable for classical computers. In the quantum\n",
    "framework, our resource-efficient algorithm scales linearly with\n",
    "the number of aminoacids N."
   ]
  },
  {
   "cell_type": "markdown",
   "id": "58f24401",
   "metadata": {},
   "source": [
    "The goal of this work is to determine the minimum energy conformation of a protein. Starting from a random configuration, the protein's structure is optimized to lower the energy. This can be achieved by encoding the protein folding problem into a qubit operator and ensuring that all physical constraints are satisfied. "
   ]
  },
  {
   "cell_type": "markdown",
   "id": "76928cec",
   "metadata": {},
   "source": [
    "For the problem encoding we use: \n",
    "\n",
    "- Configuration qubits: qubits that are used to describe the configurations and the relative position of the different beads\n",
    "\n",
    "- Interaction qubits: qubits that encode interactions between the different aminoacids\n",
    "\n",
    "For our case we use a tetrahedral lattice (diamond shape lattice) where we encode the movement through the configuration qubits (see image below). \n",
    "\n",
    "<img src=\"../docs/aux_files/lattice_protein.png\" width=\"300\">"
   ]
  },
  {
   "cell_type": "markdown",
   "id": "50dc1324",
   "metadata": {},
   "source": [
    "#### The Hamiltonian\n",
    "\n",
    "The Hamiltonian of the system for a set of qubits $\\mathbf{q}=\\{\\mathbf{q}_{cf}, \\mathbf{q}_{in}\\}$ is \n",
    "\n",
    "$$H(\\mathbf{q}) = H_{gc}(\\mathbf{q}_{cf}) + H_{ch}(\\mathbf{q}_{cf}) + H_{in}(\\mathbf{q}_{cf}, \\mathbf{q}_{in}) $$\n",
    "\n",
    "where \n",
    "\n",
    "- $H_{gc}$ is the geometrical constraint term (governing the growth of the primary sequence of aminoacids without bifurcations)\n",
    "\n",
    "- $H_{ch}$ is the chirality constraint (enforcing the right stereochemistry for the system)\n",
    "\n",
    "- $H_{in}$ is the interaction energy terms of the system. In our case we consider only nearest neighbor interactions. \n",
    "\n",
    "The ground state of this Hamiltonian corresponds to the minimum energy conformation of the protein.\n"
   ]
  },
  {
   "cell_type": "markdown",
   "id": "e6edc2c9",
   "metadata": {},
   "source": [
    "\n",
    "Quantum State Representation:\n",
    "\n",
    "The protein's configuration is represented in a $2^{N_q}$ dimensional Hilbert space, where $N_q$ is the total number of qubits. Each basis state $|\\psi\\rangle$ in this space represents a possible protein configuration.\n"
   ]
  },
  {
   "cell_type": "markdown",
   "id": "62d4e201",
   "metadata": {},
   "source": [
    "#### VQE\n",
    "\n",
    "The algorithm employs the Variational Quantum Eigensolver (VQE) approach, which is a hybrid quantum-classical algorithm designed to find the ground state energy of a quantum system. The VQE can be mathematically described as:\n",
    "\n",
    "$$\\min_{\\theta} \\langle\\psi(\\theta)|H|\\psi(\\theta)\\rangle$$\n",
    "\n",
    "Where:\n",
    "- $H$ is the Hamiltonian operator representing the system's energy\n",
    "- $|\\psi(\\theta)\\rangle$ is a parameterized quantum state prepared by a quantum circuit\n",
    "- $\\theta$ represents a set of classical parameters that can be optimized\n",
    "\n",
    "The VQE algorithm consists of the following steps:\n",
    "\n",
    "1. State Preparation: A quantum circuit with parameters $\\theta$ prepares the state $|\\psi(\\theta)\\rangle$\n",
    "2. Measurement: The expectation value $\\langle\\psi(\\theta)|H|\\psi(\\theta)\\rangle$ is estimated through multiple measurements\n",
    "3. Classical Optimization: A classical optimizer adjusts $\\theta$ to minimize the expectation value\n",
    "4. Iteration: The above steps are repeated until convergence or a stopping criterion is met\n",
    "\n",
    "In the context of protein folding:\n",
    "- The Hamiltonian $H$ encodes the energy landscape of the protein, including geometric constraints and interaction energies\n",
    "- The parameterized state $|\\psi(\\theta)\\rangle$ represents possible protein configurations\n",
    "- The minimization process aims to find the lowest energy configuration, corresponding to the protein's folded state\n",
    "\n",
    "The VQE approach is particularly suitable for near-term quantum devices due to its hybrid nature and adaptability to noisy quantum hardware. It leverages the quantum computer's ability to efficiently prepare and manipulate complex quantum states, while offloading the optimization task to classical computers. This makes it a promising approach for solving the protein folding problem, where the energy landscape is typically very complex and high-dimensional.\n"
   ]
  },
  {
   "cell_type": "markdown",
   "id": "1ab7fd76",
   "metadata": {},
   "source": [
    "#### the Quantum Circuit Structure\n",
    "\n",
    "The quantum circuit $U(\\theta)$ that prepares the parameterized quantum state $|\\psi(\\theta)\\rangle$ typically takes the form of a product of exponentials of Pauli operators:\n",
    "\n",
    "$$U(\\theta) = \\prod_i \\exp(-i\\theta_i P_i)$$\n",
    "\n",
    "Where:\n",
    "- $P_i$ are Pauli operators (I, X, Y, Z) or tensor products of Pauli operators\n",
    "- $\\theta_i$ are the variational parameters (real numbers) that can be optimized\n",
    "- $i$ indexes the different terms in the circuit\n",
    "\n",
    "This structure, known as a parameterized quantum circuit or variational ansatz, has several important properties:\n",
    "\n",
    "- Universality: With a sufficient number of terms, this form can approximate any unitary operation.\n",
    "- Gradients: The circuit structure allows for efficient computation of gradients with respect to $\\theta_i$, which is crucial for optimization.\n",
    "- Hardware efficiency: The exponentials of Pauli operators can be implemented efficiently on quantum hardware using native gates.\n",
    "- Problem-specific design: The choice of Pauli operators $P_i$ can be tailored to the specific problem structure, in this case, the protein folding Hamiltonian.\n",
    "\n",
    "In practice, this circuit is often implemented as a sequence of rotations and entangling gates. For example:\n",
    "\n",
    "- $\\exp(-i\\theta X) = R_x(\\theta)$ (rotation around X-axis)\n",
    "- $\\exp(-i\\theta Z) = R_z(\\theta)$ (rotation around Z-axis)\n",
    "- $\\exp(-i\\theta X \\otimes X) = R_{xx}(\\theta)$ (two-qubit XX rotation)\n",
    "\n",
    "The specific structure of $U(\\theta)$ for protein folding would be designed to efficiently explore the space of protein configurations, taking into account the geometric and energetic constraints of the problem.\n"
   ]
  },
  {
   "cell_type": "markdown",
   "id": "afff9ae7",
   "metadata": {},
   "source": [
    "\n",
    "#### Conditional Value at Risk (CVaR)\n",
    "\n",
    "Instead of minimizing the expectation value $\\langle H \\rangle$, the algorithm employs a more sophisticated approach by minimizing the Conditional Value at Risk (CVaR). The CVaR is defined as:\n",
    "\n",
    "$$\\text{CVaR}_{\\alpha}(H) = \\mathbb{E}[H | H \\geq \\text{VaR}_{\\alpha}(H)]$$\n",
    "\n",
    "Where $\\text{VaR}_{\\alpha}(H)$ is the Value at Risk, which is the $\\alpha$-quantile of the distribution of the Hamiltonian $H$. The parameter $\\alpha$ is typically chosen to be a small value, such as 0.05 or 0.01.\n",
    "\n",
    "The CVaR optimization strategy offers several advantages:\n",
    "\n",
    "1. Focus on worst-case scenarios: By considering only the values of $H$ that are greater than or equal to $\\text{VaR}_{\\alpha}(H)$, the algorithm concentrates on the lower tail of the energy distribution. This is particularly useful in protein folding, where we are interested in finding the lowest energy configurations.\n",
    "\n",
    "2. Robustness: CVaR is less sensitive to outliers compared to simple expectation value minimization, making the optimization process more stable.\n",
    "\n",
    "3. Risk-aware optimization: The CVaR approach inherently accounts for the risk associated with different protein configurations, potentially leading to more reliable folding predictions.\n",
    "\n",
    "4. Improved exploration: By focusing on the lower tail of the energy distribution, the algorithm may be better at escaping local minima and exploring the complex energy landscape of protein folding.\n",
    "\n",
    "The use of CVaR in the context of Variational Quantum Eigensolver (VQE) for protein folding represents an advanced technique that combines concepts from quantum computing, optimization theory, and risk analysis to tackle the challenging problem of protein structure prediction.\n"
   ]
  },
  {
   "cell_type": "markdown",
   "id": "27c3cd7a",
   "metadata": {},
   "source": [
    "\n",
    "#### Hybrid Quantum-Classical Optimization\n",
    "\n",
    "The classical optimization loop can be described as:\n",
    "\n",
    "$\\theta_{t+1} = \\theta_t - \\eta \\nabla_{\\theta} \\text{CVaR}_{\\alpha}(\\langle\\psi(\\theta_t)|H|\\psi(\\theta_t)\\rangle)$\n",
    "\n",
    "Where $\\eta$ is the learning rate and the gradient is typically estimated numerically or analytically.\n",
    "\n",
    "#### Qubit Encoding\n",
    "\n",
    "The protein's structure is encoded using a combination of configuration qubits $(q_{cf})$ and interaction qubits $(q_{in})$. For a protein with $N$ aminoacids, typically $2(N-3)$ qubits are used to encode the main chain configuration, with additional qubits for side chains and interactions.\n",
    "\n",
    "#### Penalty Terms\n",
    "The Hamiltonian includes penalty terms to enforce physical constraints:\n",
    "\n",
    "$H_{penalty} = \\lambda_{chiral} H_{chiral} + \\lambda_{back} H_{back} + \\lambda_1 H_1$\n",
    "\n",
    "Where $\\lambda_{chiral}$, $\\lambda_{back}$, and $\\lambda_1$ are penalty coefficients, and $H_{chiral}$, $H_{back}$, and $H_1$ are operators enforcing chirality, preventing backtracking, and avoiding local overlaps respectively.\n",
    "\n",
    "#### Interaction Model\n",
    "The interaction energy term $H_{in}$ is typically based on statistical potentials, such as the Miyazawa-Jernigan model:\n",
    "\n",
    "$H_{in} = \\sum_{i,j} e_{ij} \\sigma_i \\sigma_j$\n",
    "\n",
    "Where $e_{ij}$ are interaction energies between aminoacid types, and $\\sigma_i$, $\\sigma_j$ are operators indicating spatial proximity.\n",
    "\n",
    "#### Measurement and Decoding\n",
    "\n",
    "After optimization, the final quantum state is measured, collapsing it to a computational basis state. This bitstring is then decoded to recover the protein's 3D structure, typically using a mapping from qubit states to spatial coordinates in a lattice model.\n",
    "\n",
    "This formulation combines concepts from quantum mechanics, optimization theory, and protein physics to create a quantum algorithm for the protein folding problem. The potential advantage comes from the ability of quantum systems to efficiently represent and manipulate the exponentially large configuration space of protein structures."
   ]
  },
  {
   "cell_type": "markdown",
   "id": "0d7f4dbb",
   "metadata": {},
   "source": [
    "Further details about the used model and the encoding of the problem can be found in [2]."
   ]
  },
  {
   "cell_type": "markdown",
   "id": "51e540f5",
   "metadata": {},
   "source": [
    "### Protein Main Chain"
   ]
  },
  {
   "cell_type": "code",
   "execution_count": null,
   "id": "8796e5f5",
   "metadata": {},
   "outputs": [],
   "source": [
    "import sys\n",
    "import os\n",
    "\n",
    "# Get the current directory\n",
    "current_dir = os.path.dirname(os.path.abspath('__file__'))\n",
    "\n",
    "# Get the parent directory (assuming 'docs' is one level below the root)\n",
    "parent_dir = os.path.dirname(current_dir)\n",
    "\n",
    "# Add the 'src' folder to the Python path\n",
    "src_path = os.path.join(parent_dir, 'src')\n",
    "sys.path.append(src_path)\n",
    "\n",
    "print(f\"Added {src_path} to Python path\")\n"
   ]
  },
  {
   "cell_type": "code",
   "execution_count": null,
   "id": "4b839c00",
   "metadata": {},
   "outputs": [],
   "source": [
    "from protein_folding.interactions.random_interaction import (\n",
    "    RandomInteraction,\n",
    ")\n",
    "from protein_folding.interactions.miyazawa_jernigan_interaction import (\n",
    "    MiyazawaJerniganInteraction,\n",
    ")\n",
    "from protein_folding.peptide.peptide import Peptide\n",
    "from protein_folding.protein_folding_problem import (\n",
    "    ProteinFoldingProblem,\n",
    ")\n",
    "\n",
    "from protein_folding.penalty_parameters import PenaltyParameters\n",
    "\n",
    "from qiskit.utils import algorithm_globals, QuantumInstance\n",
    "\n",
    "algorithm_globals.random_seed = 23"
   ]
  },
  {
   "cell_type": "markdown",
   "id": "15a69286",
   "metadata": {},
   "source": [
    "The Protein consists of a main chain that is a linear chain of aminoacids. For the naming of different residues we use the one-letter code as defined in Ref. [3]. Further details about the naming and the type of aminoacids can also be found in [4].\n",
    "\n",
    "For this particular case we demonstrate the generation of the qubit operator in a neuropeptide with the main chain consisting of 7 aminoacids with letter codes APRLRFY (see also [2])."
   ]
  },
  {
   "cell_type": "code",
   "execution_count": null,
   "id": "b78d077a",
   "metadata": {},
   "outputs": [],
   "source": [
    "main_chain = \"APRLRFY\""
   ]
  },
  {
   "cell_type": "markdown",
   "id": "2b28a00e",
   "metadata": {},
   "source": [
    "### Side Chains"
   ]
  },
  {
   "cell_type": "markdown",
   "id": "b99c81a8",
   "metadata": {},
   "source": [
    "Beyond the main chain of the protein there may be aminoacids attached to the residues of the main chain. Our model allows for side chains of the maximum length of one. Elongated side chains would require the introduction of additional penalty terms which are still under development. In this example we do not consider any side chains to keep the real structure of the neuropeptide. "
   ]
  },
  {
   "cell_type": "code",
   "execution_count": null,
   "id": "f0cea914",
   "metadata": {},
   "outputs": [],
   "source": [
    "side_chains = [\"\"] * 7"
   ]
  },
  {
   "cell_type": "markdown",
   "id": "203e288b",
   "metadata": {},
   "source": [
    "### Interaction between Aminoacids"
   ]
  },
  {
   "cell_type": "markdown",
   "id": "72ff748d",
   "metadata": {},
   "source": [
    "For the description of inter-residue contacts for proteins we use knowledge-based (statistical) potentials derived using quasi-chemical approximation. The potentials used here are introduced by Miyazawa, S. and Jernigan, R. L. in [5]. \n",
    "\n",
    "Beyond this model we also allow for random contact maps (interactions) that provide a random interaction map. One can also introduce a custom interaction map that enhances certain configurations of the protein (e.g. alpha helix, beta sheet etc). "
   ]
  },
  {
   "cell_type": "code",
   "execution_count": null,
   "id": "cca5df13",
   "metadata": {},
   "outputs": [],
   "source": [
    "random_interaction = RandomInteraction()\n",
    "mj_interaction = MiyazawaJerniganInteraction()"
   ]
  },
  {
   "cell_type": "markdown",
   "id": "bb5c3ec8",
   "metadata": {},
   "source": [
    "### Physical Constraints"
   ]
  },
  {
   "cell_type": "markdown",
   "id": "5adb4c73",
   "metadata": {},
   "source": [
    "To ensure that all physical constraints are respected we introduce penalty functions. The different penalty terms used are: \n",
    "\n",
    "- penalty_chiral: A penalty parameter used to impose the right chirality.\n",
    "\n",
    "- penalty_back: A penalty parameter used to penalize turns along the same axis. This term is used to eliminate sequences where the same axis is chosen twice in a row. In this way we do not allow for a chain to fold back into itself.\n",
    "\n",
    "- penalty_1: A penalty parameter used to penalize local overlap between beads within a nearest neighbor contact."
   ]
  },
  {
   "cell_type": "code",
   "execution_count": null,
   "id": "d96678c3",
   "metadata": {},
   "outputs": [],
   "source": [
    "penalty_back = 10\n",
    "penalty_chiral = 10\n",
    "penalty_1 = 10\n",
    "\n",
    "penalty_terms = PenaltyParameters(penalty_chiral, penalty_back, penalty_1)"
   ]
  },
  {
   "cell_type": "markdown",
   "id": "29807064",
   "metadata": {},
   "source": [
    "### Peptide Definition\n"
   ]
  },
  {
   "cell_type": "markdown",
   "id": "3eafb4dd",
   "metadata": {},
   "source": [
    "Based on the main chain and possible side chains we define the peptide object that includes all the structural information of the modeled system."
   ]
  },
  {
   "cell_type": "code",
   "execution_count": null,
   "id": "94b24aec",
   "metadata": {},
   "outputs": [],
   "source": [
    "peptide = Peptide(main_chain, side_chains)"
   ]
  },
  {
   "cell_type": "markdown",
   "id": "48deb63f",
   "metadata": {},
   "source": [
    "### Protein Folding Problem "
   ]
  },
  {
   "cell_type": "markdown",
   "id": "729f35c0",
   "metadata": {},
   "source": [
    "Based on the defined peptide, the interaction (contact map) and the penalty terms we defined for our model we define the protein folding problem that returns qubit operators.\n"
   ]
  },
  {
   "cell_type": "code",
   "execution_count": null,
   "id": "8d0408ed",
   "metadata": {},
   "outputs": [],
   "source": [
    "protein_folding_problem = ProteinFoldingProblem(peptide, mj_interaction, penalty_terms)\n",
    "qubit_op = protein_folding_problem.qubit_op()"
   ]
  },
  {
   "cell_type": "code",
   "execution_count": null,
   "id": "29860ed3",
   "metadata": {
    "scrolled": true
   },
   "outputs": [],
   "source": [
    "print(qubit_op)"
   ]
  },
  {
   "cell_type": "markdown",
   "id": "441ccc74",
   "metadata": {},
   "source": [
    "### Using VQE with CVaR expectation value for the solution of the problem"
   ]
  },
  {
   "cell_type": "markdown",
   "id": "e99e05de",
   "metadata": {},
   "source": [
    "The problem that we are tackling has now implemented all the physical constraints and has a diagonal Hamiltonian. For the particular case we are targeting the single bitstring that gives us the minimum energy (corresponding to the folded structure of the protein). Thus, we can use the Variational Quantum Eigensolver with Conditional Value at Risk (CVaR) expectation values for the solution of the problem and for finding the minimum configuration energy [6] . We follow the same approach as in Ref. [2] but here we use COBYLA for the classical optimization part. One can also use the standard VQE or QAOA algorithm for the solution of the problem, though as discussed in Ref. [2] CVaR is more suitable. "
   ]
  },
  {
   "cell_type": "code",
   "execution_count": null,
   "id": "5eb95499",
   "metadata": {
    "scrolled": true
   },
   "outputs": [],
   "source": [
    "from qiskit.circuit.library import RealAmplitudes\n",
    "from qiskit.algorithms.optimizers import COBYLA\n",
    "from qiskit.algorithms import NumPyMinimumEigensolver\n",
    "from qiskit.algorithms.minimum_eigensolvers import SamplingVQE\n",
    "from qiskit import execute, Aer\n",
    "from qiskit.primitives import Sampler\n",
    "\n",
    "# set classical optimizer\n",
    "optimizer = COBYLA(maxiter=50)\n",
    "\n",
    "# set variational ansatz\n",
    "ansatz = RealAmplitudes(reps=1)\n",
    "\n",
    "counts = []\n",
    "values = []\n",
    "\n",
    "\n",
    "def store_intermediate_result(eval_count, parameters, mean, std):\n",
    "    counts.append(eval_count)\n",
    "    values.append(mean)\n",
    "\n",
    "\n",
    "# initialize VQE using CVaR with alpha = 0.1\n",
    "vqe = SamplingVQE(\n",
    "    Sampler(),\n",
    "    ansatz=ansatz,\n",
    "    optimizer=optimizer,\n",
    "    aggregation=0.1,\n",
    "    callback=store_intermediate_result,\n",
    ")\n",
    "\n",
    "raw_result = vqe.compute_minimum_eigenvalue(qubit_op)\n",
    "print(raw_result)"
   ]
  },
  {
   "cell_type": "code",
   "execution_count": null,
   "id": "7d51e6b4",
   "metadata": {},
   "outputs": [],
   "source": [
    "import matplotlib.pyplot as plt\n",
    "\n",
    "fig = plt.figure()\n",
    "\n",
    "plt.plot(counts, values)\n",
    "plt.ylabel(\"Conformation Energy\")\n",
    "plt.xlabel(\"VQE Iterations\")\n",
    "\n",
    "fig.add_axes([0.44, 0.51, 0.44, 0.32])\n",
    "\n",
    "plt.plot(counts[40:], values[40:])\n",
    "plt.ylabel(\"Conformation Energy\")\n",
    "plt.xlabel(\"VQE Iterations\")\n",
    "plt.show()"
   ]
  },
  {
   "cell_type": "markdown",
   "id": "002b5c74",
   "metadata": {},
   "source": [
    "### Visualizing the answer"
   ]
  },
  {
   "cell_type": "markdown",
   "id": "2e2b6b22",
   "metadata": {},
   "source": [
    "In order to reduce computational costs, we have reduced the problem's qubit operator to the minimum amount of qubits needed to represent the shape of the protein. In order to decode the answer we need to understand how this has been done.\n",
    "* The shape of the protein has been encoded by a sequence of turns , $\\{0,1,2,3\\}$. Each turn represents a different direction in the lattice.\n",
    "* For a main bead of $N_{aminoacids}$ in a lattice, we need $N_{aminoacids}-1$ turns in order to represent its shape. However, the orientation of the protein is not relevant to its energy. Therefore the first two turns of the shape can be set to $[1,0]$ without loss of generality.\n",
    "* If the second bead does not have any side chain, we can also set the $6^{th}$ qubit to $[1]$ without breaking symmetry.\n",
    "* Since the length of the secondary chains is always limited to $1$ we only need one turn to describe the shape of the chain.\n",
    "\n",
    "The total amount of qubits we need to represent the shape of the protein will be $2(N_{aminoacids}-3)$ if there is a secondary chain coming out of the second bead or $2(N_{aminoacids}-3) - 1$, otherwise. All the other qubits will remain unused during the optimization process. See:"
   ]
  },
  {
   "cell_type": "code",
   "execution_count": null,
   "id": "49a65992",
   "metadata": {},
   "outputs": [],
   "source": [
    "result = protein_folding_problem.interpret(raw_result=raw_result)\n",
    "print(\n",
    "    \"The bitstring representing the shape of the protein during optimization is: \",\n",
    "    result.turn_sequence,\n",
    ")\n",
    "print(\"The expanded expression is:\", result.get_result_binary_vector())"
   ]
  },
  {
   "cell_type": "markdown",
   "id": "19578a0c",
   "metadata": {},
   "source": [
    "Now that we know which qubits encode which information, we can decode the bitstring into the explicit turns that form the shape of the protein."
   ]
  },
  {
   "cell_type": "code",
   "execution_count": null,
   "id": "f377810d",
   "metadata": {},
   "outputs": [],
   "source": [
    "print(\n",
    "    f\"The folded protein's main sequence of turns is: {result.protein_shape_decoder.main_turns}\"\n",
    ")\n",
    "print(f\"and the side turn sequences are: {result.protein_shape_decoder.side_turns}\")"
   ]
  },
  {
   "cell_type": "markdown",
   "id": "de27cfcd",
   "metadata": {},
   "source": [
    "From this sequence of turns we can get the cartesian coordinates of each of the aminoacids of the protein."
   ]
  },
  {
   "cell_type": "code",
   "execution_count": null,
   "id": "39402e34",
   "metadata": {},
   "outputs": [],
   "source": [
    "print(result.protein_shape_file_gen.get_xyz_data())"
   ]
  },
  {
   "cell_type": "markdown",
   "id": "d54c6272",
   "metadata": {},
   "source": [
    "And finally, we can also plot the structure of the protein in 3D. Note that when rendered with the proper backend this plot can be interactively rotated."
   ]
  },
  {
   "cell_type": "code",
   "execution_count": null,
   "id": "a40f8c41",
   "metadata": {},
   "outputs": [],
   "source": [
    "fig = result.get_figure(title=\"Protein Structure\", ticks=False, grid=True)\n",
    "fig.get_axes()[0].view_init(10, 70)"
   ]
  },
  {
   "cell_type": "markdown",
   "id": "0675bdcc",
   "metadata": {},
   "source": [
    "And here is an example with side chains."
   ]
  },
  {
   "cell_type": "code",
   "execution_count": null,
   "id": "105a473a",
   "metadata": {},
   "outputs": [],
   "source": [
    "peptide = Peptide(\"APRLR\", [\"\", \"\", \"F\", \"Y\", \"\"])\n",
    "protein_folding_problem = ProteinFoldingProblem(peptide, mj_interaction, penalty_terms)\n",
    "qubit_op = protein_folding_problem.qubit_op()\n",
    "\n",
    "# set classical optimizer\n",
    "optimizer = COBYLA(maxiter=50)\n",
    "\n",
    "# set variational ansatz\n",
    "ansatz = RealAmplitudes(reps=1)\n",
    "\n",
    "counts = []\n",
    "values = []\n",
    "\n",
    "\n",
    "def store_intermediate_result(eval_count, parameters, mean, std):\n",
    "    counts.append(eval_count)\n",
    "    values.append(mean)\n",
    "\n",
    "\n",
    "# initialize VQE using CVaR with alpha = 0.1\n",
    "vqe = SamplingVQE(\n",
    "    Sampler(),\n",
    "    ansatz=ansatz,\n",
    "    optimizer=optimizer,\n",
    "    aggregation=0.1,\n",
    "    callback=store_intermediate_result,\n",
    ")\n",
    "\n",
    "raw_result = vqe.compute_minimum_eigenvalue(qubit_op)\n",
    "result_2 = protein_folding_problem.interpret(raw_result=raw_result)"
   ]
  },
  {
   "cell_type": "code",
   "execution_count": null,
   "id": "4b0aa85e",
   "metadata": {},
   "outputs": [],
   "source": [
    "fig = result_2.get_figure(title=\"Protein Structure\", ticks=False, grid=True)\n",
    "fig.get_axes()[0].view_init(10, 60)"
   ]
  },
  {
   "cell_type": "markdown",
   "id": "3000495a",
   "metadata": {},
   "source": [
    "### References"
   ]
  },
  {
   "cell_type": "markdown",
   "id": "c835b123",
   "metadata": {},
   "source": [
    "<font size='2'>[1] https://en.wikipedia.org/wiki/Levinthal%27s_paradox </font>\n",
    "\n",
    "<font size='2'>[2] A.Robert, P.Barkoutsos, S.Woerner and I.Tavernelli, Resource-efficient quantum algorithm for protein folding, NPJ Quantum Information, 2021, https://doi.org/10.1038/s41534-021-00368-4 </font>\n",
    "\n",
    "<font size=\"2\">[3] IUPAC–IUB Commission on Biochemical Nomenclature (1972). \"A one-letter notation for aminoacid sequences\". Pure and Applied Chemistry. 31 (4): 641–645. doi:10.1351/pac197231040639. PMID 5080161.</font> <br>\n",
    "\n",
    "<font size=\"2\">[4] https://en.wikipedia.org/wiki/Amino_acid</font>\n",
    "\n",
    "<font size=\"2\"> [5] S. Miyazawa and R. L.Jernigan, Residue – Residue Potentials with a Favorable Contact Pair Term and an Unfavorable High Packing Density Term for Simulation and Threading, J. Mol. Biol.256, 623–644, 1996, Table 3, https://doi.org/10.1006/jmbi.1996.0114 </font>\n",
    "\n",
    "<font size=\"2\"> [6] P.Barkoutsos, G. Nannichini, A.Robert, I.Tavernelli, S.Woerner, Improving Variational Quantum Optimization using CVaR, Quantum 4, 256, 2020, https://doi.org/10.22331/q-2020-04-20-256  </font>"
   ]
  },
  {
   "cell_type": "code",
   "execution_count": null,
   "id": "e48e2af1",
   "metadata": {},
   "outputs": [],
   "source": [
    "import qiskit.tools.jupyter\n",
    "\n",
    "%qiskit_version_table\n",
    "%qiskit_copyright"
   ]
  }
 ],
 "metadata": {
  "interpreter": {
   "hash": "94561c5514d6ed309ef55bb744ee9b24e97b38d0ec7b9028efe679e2a743ca0e"
  },
  "kernelspec": {
   "display_name": "Python 3 (ipykernel)",
   "language": "python",
   "name": "python3"
  },
  "language_info": {
   "codemirror_mode": {
    "name": "ipython",
    "version": 3
   },
   "file_extension": ".py",
   "mimetype": "text/x-python",
   "name": "python",
   "nbconvert_exporter": "python",
   "pygments_lexer": "ipython3",
   "version": "3.11.9"
  }
 },
 "nbformat": 4,
 "nbformat_minor": 5
}
