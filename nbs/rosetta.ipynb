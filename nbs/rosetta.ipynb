{
  "cells": [
    {
      "cell_type": "markdown",
      "metadata": {
        "id": "9DwieLxevgsT"
      },
      "source": [
        "# Basic protein Folding with PyRosetta"
      ]
    },
    {
      "cell_type": "code",
      "execution_count": 1,
      "metadata": {
        "colab": {
          "base_uri": "https://localhost:8080/"
        },
        "id": "q9Mv4sM5vgsT",
        "outputId": "44f926a2-bb16-4379-c730-4beb318e83f6"
      },
      "outputs": [
        {
          "name": "stdout",
          "output_type": "stream",
          "text": [
            "┌──────────────────────────────────────────────────────────────────────────────┐\n",
            "│                                 PyRosetta-4                                  │\n",
            "│              Created in JHU by Sergey Lyskov and PyRosetta Team              │\n",
            "│              (C) Copyright Rosetta Commons Member Institutions               │\n",
            "│                                                                              │\n",
            "│ NOTE: USE OF PyRosetta FOR COMMERCIAL PURPOSES REQUIRE PURCHASE OF A LICENSE │\n",
            "│         See LICENSE.PyRosetta.md or email license@uw.edu for details         │\n",
            "└──────────────────────────────────────────────────────────────────────────────┘\n",
            "PyRosetta-4 2024 [Rosetta PyRosetta4.conda.linux.cxx11thread.serialization.CentOS.python312.Release 2024.19+release.a34b73c40fe9c61558d566d6a63f803cfb15a4fc 2024-05-02T16:22:03] retrieved from: http://www.pyrosetta.org\n",
            "core.init: Checking for fconfig files in pwd and ./rosetta/flags\n",
            "core.init: Rosetta version: PyRosetta4.conda.linux.cxx11thread.serialization.CentOS.python312.Release r381 2024.19+release.a34b73c a34b73c40fe9c61558d566d6a63f803cfb15a4fc http://www.pyrosetta.org 2024-05-02T16:22:03\n",
            "core.init: Rosetta extras: [cxx11thread, serialization]\n",
            "core.init: command: PyRosetta -ex1 -ex2aro -database /home/ma/miniconda3/envs/rosetta/lib/python3.12/site-packages/pyrosetta/database\n",
            "basic.random.init_random_generator: 'RNG device' seed mode, using '/dev/urandom', seed=1659041530 seed_offset=0 real_seed=1659041530 thread_index=0\n",
            "basic.random.init_random_generator: RandomGenerator:init: Normal mode, seed=1659041530 RG_type=mt19937\n",
            "┌──────────────────────────────────────────────────────────────────────────────┐\n",
            "│                                 PyRosetta-4                                  │\n",
            "│              Created in JHU by Sergey Lyskov and PyRosetta Team              │\n",
            "│              (C) Copyright Rosetta Commons Member Institutions               │\n",
            "│                                                                              │\n",
            "│ NOTE: USE OF PyRosetta FOR COMMERCIAL PURPOSES REQUIRE PURCHASE OF A LICENSE │\n",
            "│         See LICENSE.PyRosetta.md or email license@uw.edu for details         │\n",
            "└──────────────────────────────────────────────────────────────────────────────┘\n",
            "PyRosetta-4 2024 [Rosetta PyRosetta4.conda.linux.cxx11thread.serialization.CentOS.python312.Release 2024.19+release.a34b73c40fe9c61558d566d6a63f803cfb15a4fc 2024-05-02T16:22:03] retrieved from: http://www.pyrosetta.org\n",
            "core.init: Checking for fconfig files in pwd and ./rosetta/flags\n",
            "core.init: Rosetta version: PyRosetta4.conda.linux.cxx11thread.serialization.CentOS.python312.Release r381 2024.19+release.a34b73c a34b73c40fe9c61558d566d6a63f803cfb15a4fc http://www.pyrosetta.org 2024-05-02T16:22:03\n",
            "core.init: Rosetta extras: [cxx11thread, serialization]\n",
            "core.init: command: PyRosetta -ex1 -ex2aro -database /home/ma/miniconda3/envs/rosetta/lib/python3.12/site-packages/pyrosetta/database\n",
            "basic.random.init_random_generator: 'RNG device' seed mode, using '/dev/urandom', seed=-755905115 seed_offset=0 real_seed=-755905115 thread_index=0\n",
            "basic.random.init_random_generator: RandomGenerator:init: Normal mode, seed=-755905115 RG_type=mt19937\n"
          ]
        }
      ],
      "source": [
        "import pyrosetta; pyrosetta.init()\n",
        "from pyrosetta import *\n",
        "from pyrosetta.teaching import *\n",
        "init()"
      ]
    },
    {
      "cell_type": "markdown",
      "metadata": {
        "id": "6d1lfTU6vgsV"
      },
      "source": [
        "## Building the Pose"
      ]
    },
    {
      "cell_type": "markdown",
      "metadata": {
        "id": "wxVHrEPcvgsV"
      },
      "source": [
        "In this workshop, you will be folding a 10 residue protein by building a simple de novo folding algorithm. Start by initializing PyRosetta as usual."
      ]
    },
    {
      "cell_type": "markdown",
      "metadata": {
        "id": "7xKJrRQMvgsV"
      },
      "source": [
        "Create a simple poly-alanine `pose` with 10 residues for testing your folding algorithm. Store the pose in a variable called \"polyA.\""
      ]
    },
    {
      "cell_type": "code",
      "execution_count": 2,
      "metadata": {
        "colab": {
          "base_uri": "https://localhost:8080/"
        },
        "id": "M0-Fu6ITvgsW",
        "nbgrader": {
          "grade": true,
          "grade_id": "cell-e4c1f7f4858d8ee4",
          "locked": false,
          "points": 0,
          "schema_version": 3,
          "solution": true
        },
        "outputId": "29617c47-80d2-41ff-bd86-cc11a5b279e9"
      },
      "outputs": [
        {
          "name": "stdout",
          "output_type": "stream",
          "text": [
            "core.chemical.GlobalResidueTypeSet: Finished initializing fa_standard residue type set.  Created 985 residue types\n",
            "core.chemical.GlobalResidueTypeSet: Total time to initialize 0.896394 seconds.\n"
          ]
        }
      ],
      "source": [
        "polyA = pyrosetta.pose_from_sequence('A' * 10)\n",
        "\n",
        "polyA.pdb_info().name(\"polyA\")"
      ]
    },
    {
      "cell_type": "markdown",
      "metadata": {
        "id": "poQD6cb-vgsW"
      },
      "source": [
        "Check the backbone dihedrals of a few residues (except the first and last) using the `.phi()` and `.psi()` methods in `Pose`."
      ]
    },
    {
      "cell_type": "code",
      "execution_count": 3,
      "metadata": {
        "colab": {
          "base_uri": "https://localhost:8080/"
        },
        "id": "pAtezERjvgsX",
        "nbgrader": {
          "grade": true,
          "grade_id": "cell-8ff53305ceab1573",
          "locked": false,
          "points": 0,
          "schema_version": 3,
          "solution": true
        },
        "outputId": "3deb8f14-a083-4f5b-d4eb-9f6d736f6dea"
      },
      "outputs": [
        {
          "name": "stdout",
          "output_type": "stream",
          "text": [
            "phi of residue 9: 180\n",
            "psi of residue 9: 180\n",
            "omega of residue 9: 180\n",
            "Total residues: 10\n",
            "Sequence: AAAAAAAAAA\n",
            "PDB info name: polyA\n"
          ]
        }
      ],
      "source": [
        "print(\"phi of residue 9: %i\" % polyA.phi(9))\n",
        "print(\"psi of residue 9: %i\" % polyA.psi(9))\n",
        "print(\"omega of residue 9: %i\" % polyA.omega(9))\n",
        "print(\"Total residues: %i\" % polyA.total_residue())\n",
        "print(\"Sequence: %s\" % polyA.sequence())\n",
        "print(\"PDB info name: %s\" % polyA.pdb_info().name())"
      ]
    },
    {
      "cell_type": "markdown",
      "metadata": {
        "id": "TqdwSv3OvgsY"
      },
      "source": [
        "## OPTIONAL pymol visualization\n",
        "\n",
        "We may want to visualize folding as it happens. Before starting with the folding protocol, instantiate a PyMOL mover and use a UNIQUE port number between 10,000 and 65,536. We will retain history in order to view the entire folding process by utilizing the `.keep_history()` method. Make sure it says `PyMOL <---> PyRosetta link started!` on its command line."
      ]
    },
    {
      "cell_type": "code",
      "execution_count": 4,
      "metadata": {
        "id": "aYHO16X7vgsY"
      },
      "outputs": [],
      "source": [
        "pmm = PyMOLMover()\n",
        "pmm.keep_history(True)\n"
      ]
    },
    {
      "cell_type": "markdown",
      "metadata": {
        "id": "R1abTWZPvgsY"
      },
      "source": [
        "Use the PyMOL mover to view the `polyA` `Pose`. You should see a long thread-like structure in PyMOL."
      ]
    },
    {
      "cell_type": "code",
      "execution_count": 5,
      "metadata": {
        "id": "i7gZhPnRvgsY"
      },
      "outputs": [],
      "source": [
        "pmm.apply(polyA)"
      ]
    },
    {
      "cell_type": "markdown",
      "metadata": {
        "id": "SmUjd5T2vgsZ"
      },
      "source": [
        "## Building A Basic *de Novo* Folding Algorithm\n",
        "\n",
        "Now, write a program that implements a Monte Carlo algorithm to optimize the protein conformation. You can do this here in the notebook, or you may use a code editor to write a `.py` file and execute in a Python or iPython shell.  \n",
        "\n",
        "Our main program will include 100 iterations of making a random trial move, scoring the protein, and accepting/rejecting the move. Therefore, we can break this algorithm down into three smaller subroutines: **random, score, and decision.**"
      ]
    },
    {
      "cell_type": "markdown",
      "metadata": {
        "id": "mTnklaJrvgsZ"
      },
      "source": [
        "### Step 1: Random Move\n",
        "\n",
        "For the **random** trial move, write a subroutine to choose one residue at random using `random.randint()` and then randomly perturb either the φ or ψ angles by a random number chosen from a Gaussian distribution. Use the Python built-in function `random.gauss()` from the `random` library with a mean of the current angle and a standard deviation of 25°. After changing the torsion angle, use `pmm.apply(polyA)` to update the structure in PyMOL."
      ]
    },
    {
      "cell_type": "code",
      "execution_count": 6,
      "metadata": {
        "id": "V0-9dNacvgsZ",
        "nbgrader": {
          "grade": true,
          "grade_id": "cell-745a45e62c624566",
          "locked": false,
          "points": 0,
          "schema_version": 3,
          "solution": true
        }
      },
      "outputs": [],
      "source": [
        "import math\n",
        "import random\n",
        "\n",
        "def randTrial(your_pose):\n",
        "    randNum = random.randint(2, your_pose.total_residue())\n",
        "    currPhi = your_pose.phi(randNum)\n",
        "    currPsi = your_pose.psi(randNum)\n",
        "    newPhi = random.gauss(currPhi, 25)\n",
        "    newPsi = random.gauss(currPsi, 25)\n",
        "    your_pose.set_phi(randNum,newPhi)\n",
        "    your_pose.set_psi(randNum,newPsi)\n",
        "    pmm.apply(your_pose)\n",
        "    return your_pose"
      ]
    },
    {
      "cell_type": "markdown",
      "metadata": {
        "id": "5Ysi9MMfvgsZ"
      },
      "source": [
        "### Step 2: Scoring Move\n",
        "\n",
        "For the **scoring** step, we need to create a scoring function and make a subroutine that simply returns the numerical energy score of the pose."
      ]
    },
    {
      "cell_type": "code",
      "execution_count": 7,
      "metadata": {
        "colab": {
          "base_uri": "https://localhost:8080/"
        },
        "id": "VeSRtuy4vgsZ",
        "nbgrader": {
          "grade": true,
          "grade_id": "cell-bd1a937d32ede4e2",
          "locked": false,
          "points": 0,
          "schema_version": 3,
          "solution": true
        },
        "outputId": "6ede7bf7-2d99-468c-95b3-7925b3f2ff2b"
      },
      "outputs": [
        {
          "name": "stdout",
          "output_type": "stream",
          "text": [
            "core.scoring.ScoreFunctionFactory: SCOREFUNCTION: ref2015\n",
            "core.scoring.etable: Starting energy table calculation\n",
            "core.scoring.etable: smooth_etable: changing atr/rep split to bottom of energy well\n",
            "core.scoring.etable: smooth_etable: spline smoothing lj etables (maxdis = 6)\n",
            "core.scoring.etable: smooth_etable: spline smoothing solvation etables (max_dis = 6)\n",
            "core.scoring.etable: Finished calculating energy tables.\n",
            "basic.io.database: Database file opened: scoring/score_functions/hbonds/ref2015_params/HBPoly1D.csv\n",
            "basic.io.database: Database file opened: scoring/score_functions/hbonds/ref2015_params/HBFadeIntervals.csv\n",
            "basic.io.database: Database file opened: scoring/score_functions/hbonds/ref2015_params/HBEval.csv\n",
            "basic.io.database: Database file opened: scoring/score_functions/hbonds/ref2015_params/DonStrength.csv\n",
            "basic.io.database: Database file opened: scoring/score_functions/hbonds/ref2015_params/AccStrength.csv\n",
            "basic.io.database: Database file opened: scoring/score_functions/rama/fd/all.ramaProb\n",
            "basic.io.database: Database file opened: scoring/score_functions/rama/fd/prepro.ramaProb\n",
            "basic.io.database: Database file opened: scoring/score_functions/omega/omega_ppdep.all.txt\n",
            "basic.io.database: Database file opened: scoring/score_functions/omega/omega_ppdep.gly.txt\n",
            "basic.io.database: Database file opened: scoring/score_functions/omega/omega_ppdep.pro.txt\n",
            "basic.io.database: Database file opened: scoring/score_functions/omega/omega_ppdep.valile.txt\n",
            "basic.io.database: Database file opened: scoring/score_functions/P_AA_pp/P_AA\n",
            "basic.io.database: Database file opened: scoring/score_functions/P_AA_pp/P_AA_n\n",
            "core.scoring.P_AA: shapovalov_lib::shap_p_aa_pp_smooth_level of 1( aka low_smooth ) got activated.\n",
            "basic.io.database: Database file opened: scoring/score_functions/P_AA_pp/shapovalov/10deg/kappa131/a20.prop\n"
          ]
        }
      ],
      "source": [
        "sfxn = get_fa_scorefxn()\n",
        "\n",
        "def score(your_pose):\n",
        "    return sfxn(your_pose)"
      ]
    },
    {
      "cell_type": "markdown",
      "metadata": {},
      "source": [
        "In PyRosetta the score of a protein pose is calculated using a scoring function, which is a weighted sum of various energy terms. These energy terms represent different physical and statistical properties of the protein structure, such as van der Waals interactions, hydrogen bonding, electrostatics, solvation, and torsional angles.\n",
        "\n",
        "The full-atom scoring function (`fa_scorefxn`) typically includes terms like:\n",
        "\n",
        "- `fa_atr`: Attractive van der Waals forces\n",
        "- `fa_rep`: Repulsive van der Waals forces\n",
        "- `fa_sol`: Solvation energy\n",
        "- `fa_intra_rep`: Intra-residue repulsive forces\n",
        "- `fa_elec`: Electrostatic interactions\n",
        "- `hbond_sr_bb`: Short-range backbone hydrogen bonding\n",
        "- `hbond_lr_bb`: Long-range backbone hydrogen bonding\n",
        "- `hbond_bb_sc`: Backbone-sidechain hydrogen bonding\n",
        "- `hbond_sc`: Sidechain-sidechain hydrogen bonding\n",
        "- `rama`: Ramachandran preferences\n",
        "- `omega`: Omega torsion\n",
        "- `fa_dun`: Dunbrack rotamer library\n",
        "- `p_aa_pp`: Probability of amino acid given phi/psi\n",
        "\n",
        "The scoring function assigns a weight to each of these terms and computes the total score as the weighted sum of all these individual energy terms."
      ]
    },
    {
      "cell_type": "code",
      "execution_count": 8,
      "metadata": {},
      "outputs": [
        {
          "name": "stdout",
          "output_type": "stream",
          "text": [
            "core.scoring.Energies: E\n"
          ]
        }
      ],
      "source": [
        "polyA.energies().show()"
      ]
    },
    {
      "cell_type": "markdown",
      "metadata": {
        "id": "ktHP73aqvgsa"
      },
      "source": [
        "### Step 3: Accepting/Rejecting Move\n",
        "For the **decision** step, we need to make a subroutine that either accepts or rejects the new conformation based on the Metropolis criterion. The Metropolis criterion has a probability of accepting a move as $P = \\exp( -\\Delta G / kT )$. When $ΔE ≥ 0$, the Metropolis criterion probability of accepting the move is $P = \\exp( -\\Delta G / kT )$. When $ΔE < 0$, the Metropolis criterion probability of accepting the move is $P = 1$. Use $kT = 1$ Rosetta Energy Unit (REU)."
      ]
    },
    {
      "cell_type": "code",
      "execution_count": 9,
      "metadata": {
        "id": "ilsh51Ezvgsa",
        "nbgrader": {
          "grade": true,
          "grade_id": "cell-9f9766e421aae110",
          "locked": false,
          "points": 0,
          "schema_version": 3,
          "solution": true
        }
      },
      "outputs": [],
      "source": [
        "def decision(before_pose, after_pose):\n",
        "    E = score(after_pose) - score(before_pose)\n",
        "    if E < 0:\n",
        "        return after_pose\n",
        "    elif random.uniform(0, 1) >= math.exp(-E/1):\n",
        "        return before_pose\n",
        "    else:\n",
        "        return after_pose\n"
      ]
    },
    {
      "cell_type": "markdown",
      "metadata": {
        "id": "LRZyECUwvgsa"
      },
      "source": [
        "## Execution\n",
        "Now we can put these three subroutines together in our main program! Write a loop in the main program so that it performs 100 iterations of: making a random trial move, scoring the protein, and accepting/rejecting the move.\n",
        "\n",
        "After each iteration of the search, output the current pose energy and the lowest energy ever observed. **The final output of this program should be the lowest energy conformation that is achieved at *any* point during the simulation.** Be sure to use `low_pose.assign(pose)` rather than `low_pose = pose`, since the latter will only copy a pointer to the original pose."
      ]
    },
    {
      "cell_type": "code",
      "execution_count": 10,
      "metadata": {
        "id": "VKhSmyK8vgsa",
        "nbgrader": {
          "grade": true,
          "grade_id": "cell-2556d0daef881f24",
          "locked": false,
          "points": 0,
          "schema_version": 3,
          "solution": true
        }
      },
      "outputs": [],
      "source": [
        "def basic_folding(your_pose, num_iterations=10000):\n",
        "    \"\"\"basic folding algorithm that completes Monte-Carlo iterations on a given pose\"\"\"\n",
        "\n",
        "    lowest_pose = Pose() # Create an empty pose for tracking the lowest energy pose.\n",
        "    lowest_pose.assign(your_pose)\n",
        "    lowest_score = score(lowest_pose)\n",
        "\n",
        "    scores = []  # List to keep track of scores\n",
        "\n",
        "    for i in range(num_iterations):\n",
        "        before_pose = Pose()\n",
        "        before_pose.assign(your_pose) # keep track of pose before random move\n",
        "\n",
        "        after_pose = Pose()\n",
        "        after_pose.assign(randTrial(your_pose)) # do random move and store the pose\n",
        "\n",
        "        your_pose.assign(decision(before_pose, after_pose)) # keep the new pose or old pose\n",
        "\n",
        "        current_score = score(your_pose)\n",
        "        scores.append(current_score)\n",
        "\n",
        "        if current_score < lowest_score: # updating lowest pose\n",
        "            lowest_pose.assign(your_pose)\n",
        "            lowest_score = current_score\n",
        "\n",
        "        if (i + 1) % 100 == 0:  # Print info every 100 iterations\n",
        "            print(f\"Iteration # {i + 1}\")\n",
        "            print(f\"Current pose score: {current_score:.3f}\")\n",
        "            print(f\"Lowest pose score: {lowest_score:.3f}\")\n",
        "\n",
        "    return lowest_pose, scores"
      ]
    },
    {
      "cell_type": "code",
      "execution_count": 11,
      "metadata": {
        "colab": {
          "base_uri": "https://localhost:8080/"
        },
        "id": "R6OaMTBWvgsb",
        "outputId": "fc1f1f58-5db5-4b6c-ca9b-c869d12cc38c"
      },
      "outputs": [
        {
          "name": "stdout",
          "output_type": "stream",
          "text": [
            "basic.io.database: Database file opened: scoring/score_functions/elec_cp_reps.dat\n",
            "core.scoring.elec.util: Read 40 countpair representative atoms\n",
            "core.pack.dunbrack.RotamerLibrary: shapovalov_lib_fixes_enable option is true.\n",
            "core.pack.dunbrack.RotamerLibrary: shapovalov_lib::shap_dun10_smooth_level of 1( aka lowest_smooth ) got activated.\n",
            "core.pack.dunbrack.RotamerLibrary: Binary rotamer library selected: /home/ma/miniconda3/envs/rosetta/lib/python3.12/site-packages/pyrosetta/database/rotamer/shapovalov/StpDwn_0-0-0/Dunbrack10.lib.bin\n",
            "core.pack.dunbrack.RotamerLibrary: Using Dunbrack library binary file '/home/ma/miniconda3/envs/rosetta/lib/python3.12/site-packages/pyrosetta/database/rotamer/shapovalov/StpDwn_0-0-0/Dunbrack10.lib.bin'.\n",
            "core.pack.dunbrack.RotamerLibrary: Dunbrack 2010 library took 0.254088 seconds to load from binary\n",
            "Iteration # 100\n",
            "Current pose score: 10.628\n",
            "Lowest pose score: 10.114\n",
            "Iteration # 200\n",
            "Current pose score: 14.664\n",
            "Lowest pose score: 8.932\n",
            "Iteration # 300\n",
            "Current pose score: 15.818\n",
            "Lowest pose score: 8.932\n",
            "Iteration # 400\n",
            "Current pose score: 14.953\n",
            "Lowest pose score: 8.932\n",
            "Iteration # 500\n",
            "Current pose score: 14.590\n",
            "Lowest pose score: 8.932\n",
            "Iteration # 600\n",
            "Current pose score: 16.279\n",
            "Lowest pose score: 4.469\n",
            "Iteration # 700\n",
            "Current pose score: 4.236\n",
            "Lowest pose score: 4.210\n",
            "Iteration # 800\n",
            "Current pose score: 5.674\n",
            "Lowest pose score: 4.088\n",
            "Iteration # 900\n",
            "Current pose score: 5.324\n",
            "Lowest pose score: 4.088\n",
            "Iteration # 1000\n",
            "Current pose score: 4.070\n",
            "Lowest pose score: 3.467\n",
            "Iteration # 1100\n",
            "Current pose score: 4.082\n",
            "Lowest pose score: 3.467\n",
            "Iteration # 1200\n",
            "Current pose score: 4.257\n",
            "Lowest pose score: 3.467\n",
            "Iteration # 1300\n",
            "Current pose score: 9.221\n",
            "Lowest pose score: 3.467\n",
            "Iteration # 1400\n",
            "Current pose score: 6.788\n",
            "Lowest pose score: 3.467\n",
            "Iteration # 1500\n",
            "Current pose score: 12.152\n",
            "Lowest pose score: 3.467\n",
            "Iteration # 1600\n",
            "Current pose score: 12.097\n",
            "Lowest pose score: 3.467\n",
            "Iteration # 1700\n",
            "Current pose score: 10.049\n",
            "Lowest pose score: 3.467\n",
            "Iteration # 1800\n",
            "Current pose score: 14.579\n",
            "Lowest pose score: 3.467\n",
            "Iteration # 1900\n",
            "Current pose score: 12.729\n",
            "Lowest pose score: 3.467\n",
            "Iteration # 2000\n",
            "Current pose score: 13.201\n",
            "Lowest pose score: 3.467\n",
            "Iteration # 2100\n",
            "Current pose score: 11.273\n",
            "Lowest pose score: 3.467\n",
            "Iteration # 2200\n",
            "Current pose score: 11.183\n",
            "Lowest pose score: 3.467\n",
            "Iteration # 2300\n",
            "Current pose score: 11.309\n",
            "Lowest pose score: 3.467\n",
            "Iteration # 2400\n",
            "Current pose score: 14.895\n",
            "Lowest pose score: 3.467\n",
            "Iteration # 2500\n",
            "Current pose score: 11.243\n",
            "Lowest pose score: 3.467\n",
            "Iteration # 2600\n",
            "Current pose score: 13.625\n",
            "Lowest pose score: 3.467\n",
            "Iteration # 2700\n",
            "Current pose score: 14.457\n",
            "Lowest pose score: 3.467\n",
            "Iteration # 2800\n",
            "Current pose score: 15.777\n",
            "Lowest pose score: 3.467\n",
            "Iteration # 2900\n",
            "Current pose score: 11.413\n",
            "Lowest pose score: 3.467\n",
            "Iteration # 3000\n",
            "Current pose score: 12.292\n",
            "Lowest pose score: 3.467\n",
            "Iteration # 3100\n",
            "Current pose score: 12.632\n",
            "Lowest pose score: 3.467\n",
            "Iteration # 3200\n",
            "Current pose score: 8.062\n",
            "Lowest pose score: 3.467\n",
            "Iteration # 3300\n",
            "Current pose score: 8.691\n",
            "Lowest pose score: 3.467\n",
            "Iteration # 3400\n",
            "Current pose score: 4.423\n",
            "Lowest pose score: 2.152\n",
            "Iteration # 3500\n",
            "Current pose score: 8.591\n",
            "Lowest pose score: 2.152\n",
            "Iteration # 3600\n",
            "Current pose score: 7.266\n",
            "Lowest pose score: 2.152\n",
            "Iteration # 3700\n",
            "Current pose score: 5.632\n",
            "Lowest pose score: 2.152\n",
            "Iteration # 3800\n",
            "Current pose score: 4.098\n",
            "Lowest pose score: 2.152\n",
            "Iteration # 3900\n",
            "Current pose score: 6.810\n",
            "Lowest pose score: 2.152\n",
            "Iteration # 4000\n",
            "Current pose score: 5.489\n",
            "Lowest pose score: 2.152\n",
            "Iteration # 4100\n",
            "Current pose score: 8.073\n",
            "Lowest pose score: 2.152\n",
            "Iteration # 4200\n",
            "Current pose score: 6.259\n",
            "Lowest pose score: 2.152\n",
            "Iteration # 4300\n",
            "Current pose score: 9.429\n",
            "Lowest pose score: 2.152\n",
            "Iteration # 4400\n",
            "Current pose score: 6.109\n",
            "Lowest pose score: 2.152\n",
            "Iteration # 4500\n",
            "Current pose score: 13.997\n",
            "Lowest pose score: 2.152\n",
            "Iteration # 4600\n",
            "Current pose score: 3.652\n",
            "Lowest pose score: 2.152\n",
            "Iteration # 4700\n",
            "Current pose score: 6.848\n",
            "Lowest pose score: 2.152\n",
            "Iteration # 4800\n",
            "Current pose score: 10.615\n",
            "Lowest pose score: 2.152\n",
            "Iteration # 4900\n",
            "Current pose score: 13.156\n",
            "Lowest pose score: 2.152\n",
            "Iteration # 5000\n",
            "Current pose score: 14.410\n",
            "Lowest pose score: 2.152\n",
            "Iteration # 5100\n",
            "Current pose score: 10.545\n",
            "Lowest pose score: 2.152\n",
            "Iteration # 5200\n",
            "Current pose score: 16.339\n",
            "Lowest pose score: 2.152\n",
            "Iteration # 5300\n",
            "Current pose score: 15.597\n",
            "Lowest pose score: 2.152\n",
            "Iteration # 5400\n",
            "Current pose score: 13.682\n",
            "Lowest pose score: 2.152\n",
            "Iteration # 5500\n",
            "Current pose score: 21.076\n",
            "Lowest pose score: 2.152\n",
            "Iteration # 5600\n",
            "Current pose score: 13.660\n",
            "Lowest pose score: 2.152\n",
            "Iteration # 5700\n",
            "Current pose score: 11.653\n",
            "Lowest pose score: 2.152\n",
            "Iteration # 5800\n",
            "Current pose score: 12.306\n",
            "Lowest pose score: 2.152\n",
            "Iteration # 5900\n",
            "Current pose score: 15.633\n",
            "Lowest pose score: 2.152\n",
            "Iteration # 6000\n",
            "Current pose score: 13.324\n",
            "Lowest pose score: 2.152\n",
            "Iteration # 6100\n",
            "Current pose score: 10.642\n",
            "Lowest pose score: 2.152\n",
            "Iteration # 6200\n",
            "Current pose score: 11.858\n",
            "Lowest pose score: 2.152\n",
            "Iteration # 6300\n",
            "Current pose score: 13.199\n",
            "Lowest pose score: 2.152\n",
            "Iteration # 6400\n",
            "Current pose score: 13.996\n",
            "Lowest pose score: 2.152\n",
            "Iteration # 6500\n",
            "Current pose score: 12.771\n",
            "Lowest pose score: 2.152\n",
            "Iteration # 6600\n",
            "Current pose score: 11.033\n",
            "Lowest pose score: 2.152\n",
            "Iteration # 6700\n",
            "Current pose score: 11.845\n",
            "Lowest pose score: 2.152\n",
            "Iteration # 6800\n",
            "Current pose score: 16.463\n",
            "Lowest pose score: 2.152\n",
            "Iteration # 6900\n",
            "Current pose score: 14.565\n",
            "Lowest pose score: 2.152\n",
            "Iteration # 7000\n",
            "Current pose score: 11.835\n",
            "Lowest pose score: 2.152\n",
            "Iteration # 7100\n",
            "Current pose score: 13.026\n",
            "Lowest pose score: 2.152\n",
            "Iteration # 7200\n",
            "Current pose score: 13.198\n",
            "Lowest pose score: 2.152\n",
            "Iteration # 7300\n",
            "Current pose score: 19.527\n",
            "Lowest pose score: 2.152\n",
            "Iteration # 7400\n",
            "Current pose score: 6.564\n",
            "Lowest pose score: 2.152\n",
            "Iteration # 7500\n",
            "Current pose score: 7.506\n",
            "Lowest pose score: 2.152\n",
            "Iteration # 7600\n",
            "Current pose score: 5.230\n",
            "Lowest pose score: 2.152\n",
            "Iteration # 7700\n",
            "Current pose score: 7.257\n",
            "Lowest pose score: 2.152\n",
            "Iteration # 7800\n",
            "Current pose score: 6.943\n",
            "Lowest pose score: 2.152\n",
            "Iteration # 7900\n",
            "Current pose score: 5.650\n",
            "Lowest pose score: 2.152\n",
            "Iteration # 8000\n",
            "Current pose score: 8.110\n",
            "Lowest pose score: 2.152\n",
            "Iteration # 8100\n",
            "Current pose score: 8.001\n",
            "Lowest pose score: 2.152\n",
            "Iteration # 8200\n",
            "Current pose score: 8.962\n",
            "Lowest pose score: 2.152\n",
            "Iteration # 8300\n",
            "Current pose score: 9.343\n",
            "Lowest pose score: 2.152\n",
            "Iteration # 8400\n",
            "Current pose score: 3.804\n",
            "Lowest pose score: 2.152\n",
            "Iteration # 8500\n",
            "Current pose score: 7.090\n",
            "Lowest pose score: 2.152\n",
            "Iteration # 8600\n",
            "Current pose score: 5.024\n",
            "Lowest pose score: 1.882\n",
            "Iteration # 8700\n",
            "Current pose score: 4.709\n",
            "Lowest pose score: 1.882\n",
            "Iteration # 8800\n",
            "Current pose score: 3.375\n",
            "Lowest pose score: 0.204\n",
            "Iteration # 8900\n",
            "Current pose score: 4.068\n",
            "Lowest pose score: 0.204\n",
            "Iteration # 9000\n",
            "Current pose score: 4.520\n",
            "Lowest pose score: 0.204\n",
            "Iteration # 9100\n",
            "Current pose score: 3.409\n",
            "Lowest pose score: 0.204\n",
            "Iteration # 9200\n",
            "Current pose score: 5.743\n",
            "Lowest pose score: 0.204\n",
            "Iteration # 9300\n",
            "Current pose score: 4.607\n",
            "Lowest pose score: 0.204\n",
            "Iteration # 9400\n",
            "Current pose score: 11.391\n",
            "Lowest pose score: 0.204\n",
            "Iteration # 9500\n",
            "Current pose score: 12.017\n",
            "Lowest pose score: 0.204\n",
            "Iteration # 9600\n",
            "Current pose score: 13.818\n",
            "Lowest pose score: 0.204\n",
            "Iteration # 9700\n",
            "Current pose score: 10.311\n",
            "Lowest pose score: 0.204\n",
            "Iteration # 9800\n",
            "Current pose score: 9.139\n",
            "Lowest pose score: 0.204\n",
            "Iteration # 9900\n",
            "Current pose score: 13.949\n",
            "Lowest pose score: 0.204\n",
            "Iteration # 10000\n",
            "Current pose score: 7.752\n",
            "Lowest pose score: 0.204\n"
          ]
        }
      ],
      "source": [
        "pose, scores = basic_folding(polyA)"
      ]
    },
    {
      "cell_type": "code",
      "execution_count": 12,
      "metadata": {},
      "outputs": [
        {
          "data": {
            "image/png": "[encoded data removed]",
            "text/plain": [
              "<Figure size 1000x600 with 1 Axes>"
            ]
          },
          "metadata": {},
          "output_type": "display_data"
        }
      ],
      "source": [
        "import matplotlib.pyplot as plt\n",
        "iterations = list(range(1, len(scores) + 1))\n",
        "plt.figure(figsize=(10, 6))\n",
        "plt.plot(iterations, scores, label='Score')\n",
        "\n",
        "# Find the index of the lowest score\n",
        "lowest_score_index = scores.index(min(scores))\n",
        "\n",
        "# Plot the lowest score point with a red dot\n",
        "plt.plot(iterations[lowest_score_index], scores[lowest_score_index], 'ro', markersize=10, label='Lowest Score')\n",
        "\n",
        "plt.legend()\n",
        "plt.xlabel('Iterations')\n",
        "plt.ylabel('Score')\n",
        "plt.title('Protein Folding Scores');"
      ]
    },
    {
      "cell_type": "code",
      "execution_count": 13,
      "metadata": {},
      "outputs": [
        {
          "name": "stdout",
          "output_type": "stream",
          "text": [
            "Lowest score pose saved to 'lowest_score_pose.pdb'\n"
          ]
        }
      ],
      "source": [
        "# Save the lowest score pose to PDB file\n",
        "pose.dump_pdb(\"lowest_score_pose.pdb\")\n",
        "print(\"Lowest score pose saved to 'lowest_score_pose.pdb'\")"
      ]
    },
    {
      "cell_type": "markdown",
      "metadata": {
        "id": "y5DQFzdsvgsc"
      },
      "source": [
        "note: the proposal mechanism, being based on random perturbation followed by MH acceptance, is not efficient for sampling low energy conformations. Many possible improvements are possible. "
      ]
    }
  ],
  "metadata": {
    "anaconda-cloud": {},
    "celltoolbar": "Create Assignment",
    "colab": {
      "provenance": [],
      "toc_visible": true
    },
    "kernelspec": {
      "display_name": "Python 3",
      "language": "python",
      "name": "python3"
    },
    "language_info": {
      "codemirror_mode": {
        "name": "ipython",
        "version": 3
      },
      "file_extension": ".py",
      "mimetype": "text/x-python",
      "name": "python",
      "nbconvert_exporter": "python",
      "pygments_lexer": "ipython3",
      "version": "3.12.3"
    },
    "toc": {
      "base_numbering": 1,
      "nav_menu": {},
      "number_sections": true,
      "sideBar": true,
      "skip_h1_title": false,
      "title_cell": "Table of Contents",
      "title_sidebar": "Contents",
      "toc_cell": false,
      "toc_position": {
        "height": "calc(100% - 180px)",
        "left": "10px",
        "top": "150px",
        "width": "254.188px"
      },
      "toc_section_display": true,
      "toc_window_display": true
    }
  },
  "nbformat": 4,
  "nbformat_minor": 0
}
